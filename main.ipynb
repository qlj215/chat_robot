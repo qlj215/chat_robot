{
 "cells": [
  {
   "cell_type": "code",
   "id": "0e6db372",
   "metadata": {
    "scrolled": true,
    "ExecuteTime": {
     "end_time": "2024-09-16T13:22:06.482609Z",
     "start_time": "2024-09-16T13:22:06.115427Z"
    }
   },
   "source": [
    "import os\n",
    "!setx OPENAI_API_KEY \"sk-LPdAbbTYmetPNKf5JYtgOHC9FSgxOS51HDY6EmuY29Wzp5vS\"\n",
    "api_key = os.getenv(\"OPENAI_API_KEY\")"
   ],
   "outputs": [
    {
     "name": "stdout",
     "output_type": "stream",
     "text": [
      "\n",
      "成功: 指定的值已得到保存。\n"
     ]
    }
   ],
   "execution_count": 1
  },
  {
   "cell_type": "code",
   "id": "4a6caa67",
   "metadata": {
    "ExecuteTime": {
     "end_time": "2024-09-16T13:22:26.134671Z",
     "start_time": "2024-09-16T13:22:26.128050Z"
    }
   },
   "source": [
    "print(api_key)"
   ],
   "outputs": [
    {
     "name": "stdout",
     "output_type": "stream",
     "text": [
      "sk-LPdAbbTYmetPNKf5JYtgOHC9FSgxOS51HDY6EmuY29Wzp5vS\n"
     ]
    }
   ],
   "execution_count": 2
  },
  {
   "cell_type": "code",
   "execution_count": 25,
   "id": "f437336a",
   "metadata": {},
   "outputs": [
    {
     "ename": "OpenAIError",
     "evalue": "The api_key client option must be set either by passing api_key to the client or by setting the OPENAI_API_KEY environment variable",
     "output_type": "error",
     "traceback": [
      "\u001B[1;31m---------------------------------------------------------------------------\u001B[0m",
      "\u001B[1;31mOpenAIError\u001B[0m                               Traceback (most recent call last)",
      "Cell \u001B[1;32mIn[25], line 2\u001B[0m\n\u001B[0;32m      1\u001B[0m \u001B[38;5;28;01mfrom\u001B[39;00m \u001B[38;5;21;01mopenai\u001B[39;00m \u001B[38;5;28;01mimport\u001B[39;00m OpenAI\n\u001B[1;32m----> 2\u001B[0m client \u001B[38;5;241m=\u001B[39m OpenAI()\n\u001B[0;32m      4\u001B[0m completion \u001B[38;5;241m=\u001B[39m client\u001B[38;5;241m.\u001B[39mchat\u001B[38;5;241m.\u001B[39mcompletions\u001B[38;5;241m.\u001B[39mcreate(\n\u001B[0;32m      5\u001B[0m     model\u001B[38;5;241m=\u001B[39m\u001B[38;5;124m\"\u001B[39m\u001B[38;5;124mgpt-4o-mini\u001B[39m\u001B[38;5;124m\"\u001B[39m,\n\u001B[0;32m      6\u001B[0m     messages\u001B[38;5;241m=\u001B[39m[\n\u001B[1;32m   (...)\u001B[0m\n\u001B[0;32m     12\u001B[0m     ]\n\u001B[0;32m     13\u001B[0m )\n\u001B[0;32m     15\u001B[0m \u001B[38;5;28mprint\u001B[39m(completion\u001B[38;5;241m.\u001B[39mchoices[\u001B[38;5;241m0\u001B[39m]\u001B[38;5;241m.\u001B[39mmessage)\n",
      "File \u001B[1;32mD:\\Anaconda3\\envs\\pytorch\\Lib\\site-packages\\openai\\_client.py:104\u001B[0m, in \u001B[0;36mOpenAI.__init__\u001B[1;34m(self, api_key, organization, project, base_url, timeout, max_retries, default_headers, default_query, http_client, _strict_response_validation)\u001B[0m\n\u001B[0;32m    102\u001B[0m     api_key \u001B[38;5;241m=\u001B[39m os\u001B[38;5;241m.\u001B[39menviron\u001B[38;5;241m.\u001B[39mget(\u001B[38;5;124m\"\u001B[39m\u001B[38;5;124mOPENAI_API_KEY\u001B[39m\u001B[38;5;124m\"\u001B[39m)\n\u001B[0;32m    103\u001B[0m \u001B[38;5;28;01mif\u001B[39;00m api_key \u001B[38;5;129;01mis\u001B[39;00m \u001B[38;5;28;01mNone\u001B[39;00m:\n\u001B[1;32m--> 104\u001B[0m     \u001B[38;5;28;01mraise\u001B[39;00m OpenAIError(\n\u001B[0;32m    105\u001B[0m         \u001B[38;5;124m\"\u001B[39m\u001B[38;5;124mThe api_key client option must be set either by passing api_key to the client or by setting the OPENAI_API_KEY environment variable\u001B[39m\u001B[38;5;124m\"\u001B[39m\n\u001B[0;32m    106\u001B[0m     )\n\u001B[0;32m    107\u001B[0m \u001B[38;5;28mself\u001B[39m\u001B[38;5;241m.\u001B[39mapi_key \u001B[38;5;241m=\u001B[39m api_key\n\u001B[0;32m    109\u001B[0m \u001B[38;5;28;01mif\u001B[39;00m organization \u001B[38;5;129;01mis\u001B[39;00m \u001B[38;5;28;01mNone\u001B[39;00m:\n",
      "\u001B[1;31mOpenAIError\u001B[0m: The api_key client option must be set either by passing api_key to the client or by setting the OPENAI_API_KEY environment variable"
     ]
    }
   ],
   "source": [
    "from openai import OpenAI\n",
    "client = OpenAI()\n",
    "\n",
    "completion = client.chat.completions.create(\n",
    "    model=\"gpt-4o-mini\",\n",
    "    messages=[\n",
    "        {\"role\": \"system\", \"content\": \"You are a helpful assistant.\"},\n",
    "        {\n",
    "            \"role\": \"user\",\n",
    "            \"content\": \"Write a haiku about recursion in programming.\"\n",
    "        }\n",
    "    ]\n",
    ")\n",
    "\n",
    "print(completion.choices[0].message)"
   ]
  },
  {
   "cell_type": "code",
   "id": "3d0e9ebe",
   "metadata": {
    "ExecuteTime": {
     "end_time": "2024-09-16T13:23:03.535432Z",
     "start_time": "2024-09-16T13:23:02.448523Z"
    }
   },
   "source": [
    "from openai import OpenAI\n",
    "\n",
    "client = OpenAI(\n",
    "    # defaults to os.environ.get(\"OPENAI_API_KEY\")\n",
    "    api_key=api_key,\n",
    "    base_url=\"https://api.chatanywhere.tech/v1\"\n",
    ")\n"
   ],
   "outputs": [],
   "execution_count": 7
  },
  {
   "cell_type": "code",
   "id": "c1b0686a",
   "metadata": {
    "ExecuteTime": {
     "end_time": "2024-09-16T13:22:31.553689Z",
     "start_time": "2024-09-16T13:22:31.549348Z"
    }
   },
   "source": [
    "# 非流式响应\n",
    "def gpt_35_api(messages: list):\n",
    "    \"\"\"为提供的对话消息创建新的回答\n",
    "\n",
    "    Args:\n",
    "        messages (list): 完整的对话消息\n",
    "    \"\"\"\n",
    "    completion = client.chat.completions.create(model=\"gpt-3.5-turbo\", messages=messages)\n",
    "    print(completion.choices[0].message.content)"
   ],
   "outputs": [],
   "execution_count": 3
  },
  {
   "cell_type": "code",
   "id": "20144cd2",
   "metadata": {
    "ExecuteTime": {
     "end_time": "2024-09-16T13:22:32.183949Z",
     "start_time": "2024-09-16T13:22:32.179032Z"
    }
   },
   "source": [
    "def gpt_35_api_stream(messages: list):\n",
    "    \"\"\"为提供的对话消息创建新的回答 (流式传输)\n",
    "\n",
    "    Args:\n",
    "        messages (list): 完整的对话消息\n",
    "    \"\"\"\n",
    "    stream = client.chat.completions.create(\n",
    "        model='gpt-3.5-turbo',\n",
    "        messages=messages,\n",
    "        stream=True,\n",
    "    )\n",
    "    for chunk in stream:\n",
    "        if chunk.choices[0].delta.content is not None:\n",
    "            print(chunk.choices[0].delta.content, end=\"\")"
   ],
   "outputs": [],
   "execution_count": 4
  },
  {
   "cell_type": "code",
   "id": "bafbf735",
   "metadata": {
    "ExecuteTime": {
     "end_time": "2024-09-16T13:22:34.125373Z",
     "start_time": "2024-09-16T13:22:34.121969Z"
    }
   },
   "source": [
    " messages = [{'role': 'user','content': '阐述申真谞'},]"
   ],
   "outputs": [],
   "execution_count": 5
  },
  {
   "cell_type": "code",
   "id": "7aa00b53",
   "metadata": {
    "ExecuteTime": {
     "end_time": "2024-09-16T13:22:36.464051Z",
     "start_time": "2024-09-16T13:22:36.039416Z"
    }
   },
   "source": [
    "# 非流式调用\n",
    "gpt_35_api(messages)"
   ],
   "outputs": [
    {
     "ename": "NameError",
     "evalue": "name 'client' is not defined",
     "output_type": "error",
     "traceback": [
      "\u001B[1;31m---------------------------------------------------------------------------\u001B[0m",
      "\u001B[1;31mNameError\u001B[0m                                 Traceback (most recent call last)",
      "Cell \u001B[1;32mIn[6], line 2\u001B[0m\n\u001B[0;32m      1\u001B[0m \u001B[38;5;66;03m# 非流式调用\u001B[39;00m\n\u001B[1;32m----> 2\u001B[0m gpt_35_api(messages)\n",
      "Cell \u001B[1;32mIn[3], line 8\u001B[0m, in \u001B[0;36mgpt_35_api\u001B[1;34m(messages)\u001B[0m\n\u001B[0;32m      2\u001B[0m \u001B[38;5;28;01mdef\u001B[39;00m \u001B[38;5;21mgpt_35_api\u001B[39m(messages: \u001B[38;5;28mlist\u001B[39m):\n\u001B[0;32m      3\u001B[0m \u001B[38;5;250m    \u001B[39m\u001B[38;5;124;03m\"\"\"为提供的对话消息创建新的回答\u001B[39;00m\n\u001B[0;32m      4\u001B[0m \n\u001B[0;32m      5\u001B[0m \u001B[38;5;124;03m    Args:\u001B[39;00m\n\u001B[0;32m      6\u001B[0m \u001B[38;5;124;03m        messages (list): 完整的对话消息\u001B[39;00m\n\u001B[0;32m      7\u001B[0m \u001B[38;5;124;03m    \"\"\"\u001B[39;00m\n\u001B[1;32m----> 8\u001B[0m     completion \u001B[38;5;241m=\u001B[39m client\u001B[38;5;241m.\u001B[39mchat\u001B[38;5;241m.\u001B[39mcompletions\u001B[38;5;241m.\u001B[39mcreate(model\u001B[38;5;241m=\u001B[39m\u001B[38;5;124m\"\u001B[39m\u001B[38;5;124mgpt-3.5-turbo\u001B[39m\u001B[38;5;124m\"\u001B[39m, messages\u001B[38;5;241m=\u001B[39mmessages)\n\u001B[0;32m      9\u001B[0m     \u001B[38;5;28mprint\u001B[39m(completion\u001B[38;5;241m.\u001B[39mchoices[\u001B[38;5;241m0\u001B[39m]\u001B[38;5;241m.\u001B[39mmessage\u001B[38;5;241m.\u001B[39mcontent)\n",
      "\u001B[1;31mNameError\u001B[0m: name 'client' is not defined"
     ]
    }
   ],
   "execution_count": 6
  },
  {
   "cell_type": "code",
   "execution_count": 7,
   "id": "709c6bd5",
   "metadata": {},
   "outputs": [
    {
     "name": "stdout",
     "output_type": "stream",
     "text": [
      "鲁迅和周树人是中国现代文学史上著名的作家和思想家。鲁迅是中国近现代文学的奠基人之一，被誉为“文学革命先驱”，他以其文学作品深刻揭示了当时社会的黑暗和自身的思想，被誉为“百年难遇的大文豪”。\n",
      "\n",
      "周树人是一位知名的教育家、文学家和翻译家，他和鲁迅在思想和文学上有着很多共同之处，都是反映社会现实、关注民众疾苦的作家。周树人也是鲁迅的好友和同事，两人在文学界有广泛的交流和合作，共同推动了中国现代文学的发展。\n",
      "\n",
      "尽管两人在文学创作和思想观点上有所不同，但他们都为中国文学的发展和文化的复兴做出了重要贡献，被后人称为“鲁周并称”。他们的作品和思想影响了多代人，至今仍具有重要的指导意义。"
     ]
    }
   ],
   "source": [
    "# 流式调用\n",
    "gpt_35_api_stream(messages)"
   ]
  },
  {
   "cell_type": "code",
   "execution_count": 15,
   "id": "f8f5b40c",
   "metadata": {},
   "outputs": [
    {
     "ename": "OpenAIError",
     "evalue": "The api_key client option must be set either by passing api_key to the client or by setting the OPENAI_API_KEY environment variable",
     "output_type": "error",
     "traceback": [
      "\u001B[1;31m---------------------------------------------------------------------------\u001B[0m",
      "\u001B[1;31mOpenAIError\u001B[0m                               Traceback (most recent call last)",
      "Cell \u001B[1;32mIn[15], line 1\u001B[0m\n\u001B[1;32m----> 1\u001B[0m client \u001B[38;5;241m=\u001B[39m OpenAI()\n\u001B[0;32m      3\u001B[0m response \u001B[38;5;241m=\u001B[39m client\u001B[38;5;241m.\u001B[39mimages\u001B[38;5;241m.\u001B[39mgenerate(\n\u001B[0;32m      4\u001B[0m     api_key\u001B[38;5;241m=\u001B[39m\u001B[38;5;124m\"\u001B[39m\u001B[38;5;124msk-LPdAbbTYmetPNKf5JYtgOHC9FSgxOS51HDY6EmuY29Wzp5vS\u001B[39m\u001B[38;5;124m\"\u001B[39m,\n\u001B[0;32m      5\u001B[0m   model\u001B[38;5;241m=\u001B[39m\u001B[38;5;124m\"\u001B[39m\u001B[38;5;124mdall-e-3\u001B[39m\u001B[38;5;124m\"\u001B[39m,\n\u001B[1;32m   (...)\u001B[0m\n\u001B[0;32m      9\u001B[0m   n\u001B[38;5;241m=\u001B[39m\u001B[38;5;241m1\u001B[39m,\n\u001B[0;32m     10\u001B[0m )\n\u001B[0;32m     12\u001B[0m image_url \u001B[38;5;241m=\u001B[39m response\u001B[38;5;241m.\u001B[39mdata[\u001B[38;5;241m0\u001B[39m]\u001B[38;5;241m.\u001B[39murl\n",
      "File \u001B[1;32mD:\\Anaconda3\\envs\\pytorch\\Lib\\site-packages\\openai\\_client.py:104\u001B[0m, in \u001B[0;36mOpenAI.__init__\u001B[1;34m(self, api_key, organization, project, base_url, timeout, max_retries, default_headers, default_query, http_client, _strict_response_validation)\u001B[0m\n\u001B[0;32m    102\u001B[0m     api_key \u001B[38;5;241m=\u001B[39m os\u001B[38;5;241m.\u001B[39menviron\u001B[38;5;241m.\u001B[39mget(\u001B[38;5;124m\"\u001B[39m\u001B[38;5;124mOPENAI_API_KEY\u001B[39m\u001B[38;5;124m\"\u001B[39m)\n\u001B[0;32m    103\u001B[0m \u001B[38;5;28;01mif\u001B[39;00m api_key \u001B[38;5;129;01mis\u001B[39;00m \u001B[38;5;28;01mNone\u001B[39;00m:\n\u001B[1;32m--> 104\u001B[0m     \u001B[38;5;28;01mraise\u001B[39;00m OpenAIError(\n\u001B[0;32m    105\u001B[0m         \u001B[38;5;124m\"\u001B[39m\u001B[38;5;124mThe api_key client option must be set either by passing api_key to the client or by setting the OPENAI_API_KEY environment variable\u001B[39m\u001B[38;5;124m\"\u001B[39m\n\u001B[0;32m    106\u001B[0m     )\n\u001B[0;32m    107\u001B[0m \u001B[38;5;28mself\u001B[39m\u001B[38;5;241m.\u001B[39mapi_key \u001B[38;5;241m=\u001B[39m api_key\n\u001B[0;32m    109\u001B[0m \u001B[38;5;28;01mif\u001B[39;00m organization \u001B[38;5;129;01mis\u001B[39;00m \u001B[38;5;28;01mNone\u001B[39;00m:\n",
      "\u001B[1;31mOpenAIError\u001B[0m: The api_key client option must be set either by passing api_key to the client or by setting the OPENAI_API_KEY environment variable"
     ]
    }
   ],
   "source": [
    "client = OpenAI()\n",
    "\n",
    "response = client.images.generate(\n",
    "  model=\"dall-e-3\",\n",
    "  prompt=\"a white siamese cat\",\n",
    "  size=\"1024x1024\",\n",
    "  quality=\"standard\",\n",
    "  n=1,\n",
    ")\n",
    "\n",
    "image_url = response.data[0].url"
   ]
  },
  {
   "cell_type": "code",
   "execution_count": null,
   "id": "989b28c4",
   "metadata": {},
   "outputs": [],
   "source": []
  }
 ],
 "metadata": {
  "kernelspec": {
   "display_name": "Python [conda env:pytorch] *",
   "language": "python",
   "name": "conda-env-pytorch-py"
  },
  "language_info": {
   "codemirror_mode": {
    "name": "ipython",
    "version": 3
   },
   "file_extension": ".py",
   "mimetype": "text/x-python",
   "name": "python",
   "nbconvert_exporter": "python",
   "pygments_lexer": "ipython3",
   "version": "3.11.8"
  }
 },
 "nbformat": 4,
 "nbformat_minor": 5
}
